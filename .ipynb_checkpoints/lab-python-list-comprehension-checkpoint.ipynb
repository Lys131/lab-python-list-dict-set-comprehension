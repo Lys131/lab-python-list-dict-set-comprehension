{
 "cells": [
  {
   "cell_type": "markdown",
   "id": "25d7736c-ba17-4aff-b6bb-66eba20fbf4e",
   "metadata": {},
   "source": [
    "# Lab | List, Dict and Set Comprehension"
   ]
  },
  {
   "cell_type": "markdown",
   "id": "7dd3cbde-675a-4b81-92c3-f728846dbe06",
   "metadata": {},
   "source": [
    "## Exercise: Managing Customer Orders Optimized with Comprehension"
   ]
  },
  {
   "cell_type": "markdown",
   "id": "5d500160-2fb7-4777-b5e4-09d45ebaf328",
   "metadata": {},
   "source": [
    "In the previous exercise, you developed a program to manage customer orders and inventory. Now, let's take it a step further and incorporate comprehension into your code.\n",
    "\n",
    "Follow the steps below to complete the exercise:\n",
    "\n",
    "1. Review your code from the previous exercise and identify areas where you can apply comprehension to simplify and streamline your code. \n",
    "\n",
    "    - *Hint: Apply it to initialize inventory, updating the inventory and printing the updated inventory.*\n",
    "    \n",
    "    - For example, in initializing the inventory, we could have:\n",
    "    \n",
    "        ```python\n",
    "        def initialize_inventory(products):\n",
    "            inventory = {product: int(input(f\"Enter the quantity of {product}s available: \")) for product in products}\n",
    "            return inventory\n",
    "\n",
    "        ```\n",
    "<br>\n",
    "    \n",
    "    \n",
    "2. Modify the function get_customer_orders so it prompts the user to enter the number of customer orders and gathers the product names using a loop and user input. Use comprehension.\n",
    "\n",
    "3. Add a new function to calculate the total price of the customer order. For each product in customer_orders, prompt the user to enter the price of that product. Use comprehension to calculate the total price. Note: assume that the user can only have 1 unit of each product.\n",
    "\n",
    "4. Modify the update_inventory function to remove the product from the inventory if its quantity becomes zero after fulfilling the customer orders. Use comprehension to filter out the products with a quantity of zero from the inventory.\n",
    "\n",
    "5. Print the total price of the customer order.\n",
    "\n",
    "Your code should produce output similar to the following:\n",
    "\n",
    "```python\n",
    "Enter the quantity of t-shirts available:  5\n",
    "Enter the quantity of mugs available:  4\n",
    "Enter the quantity of hats available:  3\n",
    "Enter the quantity of books available:  2\n",
    "Enter the quantity of keychains available:  1\n",
    "Enter the number of customer orders:  2\n",
    "Enter the name of a product that a customer wants to order:  hat\n",
    "Enter the name of a product that a customer wants to order:  keychain\n",
    "\n",
    "Order Statistics:\n",
    "Total Products Ordered: 2\n",
    "Percentage of Unique Products Ordered: 40.0\n",
    "\n",
    "Updated Inventory:\n",
    "t-shirt: 5\n",
    "mug: 4\n",
    "hat: 2\n",
    "book: 2\n",
    "Enter the price of keychain:  5\n",
    "Enter the price of hat:  10\n",
    "Total Price: 15.0\n",
    "\n",
    "```\n"
   ]
  },
  {
   "cell_type": "code",
   "execution_count": 120,
   "id": "b7fee47b-3c35-42ce-ac10-09398b3d20f5",
   "metadata": {},
   "outputs": [],
   "source": [
    "products = [\"t-shirt\", \"mug\", \"hat\", \"book\", \"keychain\"]\n",
    "\n",
    "def initialize_inventory(list_products):\n",
    "    inventory = {product: int(input(f\"Please, enter the inventory of {product}s: \")) for product in list_products}\n",
    "    return inventory\n",
    "\n",
    "# When running the program, define a variable: inventory = initialize_inventory(products)\n",
    "\n",
    "def get_customers_order():\n",
    "    user_input = int(input(\"Enter the number of customer orders: \").strip().lower())\n",
    "    orders_list = [n for n in range(user_input)]\n",
    "    customers_order = {(input(\"What product would you like to add to order?\").strip().lower()) for n in orders_list}\n",
    "    return customers_order\n",
    "\n",
    "# When running the program define a variable: order = get_customers_order()\n",
    "\n",
    "def update_inventory(order, inventory):\n",
    "    new_inventory = {product: (quantity-1) if product in order else quantity for product, quantity in inventory.items()}\n",
    "    new_inventory = {product: quantity for product, quantity in new_inventory.items() if quantity > 0}\n",
    "    return new_inventory\n",
    "\n",
    "def calculate_order_statistics(order, products):\n",
    "    order_stats = ()\n",
    "    total_order = len(order)\n",
    "    total_products = len(products)\n",
    "    perc_order = len(order) / len(products) * 100\n",
    "    order_stats = (total_order, perc_order)\n",
    "    return order_stats\n",
    "\n",
    "def print_order_statistics(order_stats):\n",
    "    print(\" \")\n",
    "    print(\"Order statistics:\")\n",
    "    print(f\"Total of products ordered is: {order_stats[0]}\")\n",
    "    print(f\"Percentage of products ordered is: {order_stats[1]}\")\n",
    "\n",
    "def print_updated_inventory(new_inventory):\n",
    "    print(\" \")\n",
    "    print(\"Updated inventory:\")\n",
    "    print('\\n'.join([f\"{product}: {quantity}\" for product, quantity in new_inventory.items()]))\n",
    "\n",
    "def calculate_price(order):\n",
    "    prices_list = [float(input(\"\".join(f\"Enter the price of {product}: \" ))) for product in order]\n",
    "    print(f\"Total order price is: {sum(prices_list)}.\")"
   ]
  },
  {
   "cell_type": "code",
   "execution_count": 121,
   "id": "331b7824-3d8a-46bf-821e-f3ef911ceffa",
   "metadata": {},
   "outputs": [
    {
     "name": "stdin",
     "output_type": "stream",
     "text": [
      "Please, enter the inventory of t-shirts:  1\n",
      "Please, enter the inventory of mugs:  1\n",
      "Please, enter the inventory of hats:  1\n",
      "Please, enter the inventory of books:  1\n",
      "Please, enter the inventory of keychains:  1\n",
      "Enter the number of customer orders:  2\n",
      "What product would you like to add to order? mug\n",
      "What product would you like to add to order? hat\n"
     ]
    },
    {
     "name": "stdout",
     "output_type": "stream",
     "text": [
      " \n",
      "Order statistics:\n",
      "Total of products ordered is: 2\n",
      "Percentage of products ordered is: 40.0\n",
      " \n",
      "Updated inventory:\n",
      "t-shirt: 1\n",
      "book: 1\n",
      "keychain: 1\n"
     ]
    },
    {
     "name": "stdin",
     "output_type": "stream",
     "text": [
      "Enter the price of hat:  2.5\n",
      "Enter the price of mug:  3.5\n"
     ]
    },
    {
     "name": "stdout",
     "output_type": "stream",
     "text": [
      "Total order price is: 6.0.\n"
     ]
    }
   ],
   "source": [
    "products = [\"t-shirt\", \"mug\", \"hat\", \"book\", \"keychain\"]\n",
    "\n",
    "inventory = initialize_inventory(products)\n",
    "\n",
    "order = get_customers_order()\n",
    "\n",
    "new_inventory = update_inventory(order, inventory)\n",
    "\n",
    "order_stats = calculate_order_statistics(order, products)\n",
    "\n",
    "print_order_statistics(order_stats)\n",
    "\n",
    "print_updated_inventory(new_inventory)\n",
    "\n",
    "calculate_price(order)"
   ]
  },
  {
   "cell_type": "code",
   "execution_count": null,
   "id": "5973e973-7983-4d01-8fda-a04843673ecb",
   "metadata": {},
   "outputs": [],
   "source": []
  }
 ],
 "metadata": {
  "kernelspec": {
   "display_name": "Python 3 (ipykernel)",
   "language": "python",
   "name": "python3"
  },
  "language_info": {
   "codemirror_mode": {
    "name": "ipython",
    "version": 3
   },
   "file_extension": ".py",
   "mimetype": "text/x-python",
   "name": "python",
   "nbconvert_exporter": "python",
   "pygments_lexer": "ipython3",
   "version": "3.12.7"
  }
 },
 "nbformat": 4,
 "nbformat_minor": 5
}
